{
  "nbformat": 4,
  "nbformat_minor": 0,
  "metadata": {
    "colab": {
      "name": "app.ipynb",
      "provenance": [],
      "collapsed_sections": []
    },
    "kernelspec": {
      "name": "python3",
      "display_name": "Python 3"
    },
    "widgets": {
      "application/vnd.jupyter.widget-state+json": {
        "fe3fdbfc5bc24e45b9315e2b8ecf9fd0": {
          "model_module": "@jupyter-widgets/controls",
          "model_name": "FileUploadModel",
          "state": {
            "_view_name": "FileUploadView",
            "_counter": 2,
            "style": "IPY_MODEL_823ba8c839b24e88ae8a68505a5291b8",
            "_dom_classes": [],
            "description": "Upload",
            "multiple": false,
            "_model_name": "FileUploadModel",
            "data": [
              null
            ],
            "button_style": "",
            "_view_module": "@jupyter-widgets/controls",
            "_model_module_version": "1.5.0",
            "accept": "",
            "_view_count": null,
            "disabled": false,
            "_view_module_version": "1.5.0",
            "error": "",
            "description_tooltip": null,
            "metadata": [
              {
                "name": "prova_2.zip",
                "type": "application/zip",
                "size": 711,
                "lastModified": 1613922940328
              }
            ],
            "_model_module": "@jupyter-widgets/controls",
            "layout": "IPY_MODEL_3bac3939379e4fddabb85227c7dd54cf",
            "icon": "upload"
          }
        },
        "823ba8c839b24e88ae8a68505a5291b8": {
          "model_module": "@jupyter-widgets/controls",
          "model_name": "ButtonStyleModel",
          "state": {
            "_view_name": "StyleView",
            "_model_name": "ButtonStyleModel",
            "_view_module": "@jupyter-widgets/base",
            "_model_module_version": "1.5.0",
            "_view_count": null,
            "button_color": null,
            "font_weight": "",
            "_view_module_version": "1.2.0",
            "_model_module": "@jupyter-widgets/controls"
          }
        },
        "3bac3939379e4fddabb85227c7dd54cf": {
          "model_module": "@jupyter-widgets/base",
          "model_name": "LayoutModel",
          "state": {
            "_view_name": "LayoutView",
            "grid_template_rows": null,
            "right": null,
            "justify_content": null,
            "_view_module": "@jupyter-widgets/base",
            "overflow": null,
            "_model_module_version": "1.2.0",
            "_view_count": null,
            "flex_flow": null,
            "width": null,
            "min_width": null,
            "border": null,
            "align_items": null,
            "bottom": null,
            "_model_module": "@jupyter-widgets/base",
            "top": null,
            "grid_column": null,
            "overflow_y": null,
            "overflow_x": null,
            "grid_auto_flow": null,
            "grid_area": null,
            "grid_template_columns": null,
            "flex": null,
            "_model_name": "LayoutModel",
            "justify_items": null,
            "grid_row": null,
            "max_height": null,
            "align_content": null,
            "visibility": null,
            "align_self": null,
            "height": null,
            "min_height": null,
            "padding": null,
            "grid_auto_rows": null,
            "grid_gap": null,
            "max_width": null,
            "order": null,
            "_view_module_version": "1.2.0",
            "grid_template_areas": null,
            "object_position": null,
            "object_fit": null,
            "grid_auto_columns": null,
            "margin": null,
            "display": null,
            "left": null
          }
        },
        "94cced47fae2463eb65facaaef3e4e3e": {
          "model_module": "@jupyter-widgets/output",
          "model_name": "OutputModel",
          "state": {
            "_view_name": "OutputView",
            "msg_id": "",
            "_dom_classes": [],
            "_model_name": "OutputModel",
            "outputs": [
              {
                "output_type": "display_data",
                "metadata": {
                  "tags": []
                },
                "application/vnd.jupyter.widget-view+json": {
                  "model_id": "ea6aea513cc3418785b27d840674020a",
                  "version_minor": 0,
                  "version_major": 2
                },
                "text/plain": "FloatSlider(value=0.0, max=1.0, step=0.05)"
              }
            ],
            "_view_module": "@jupyter-widgets/output",
            "_model_module_version": "1.0.0",
            "_view_count": null,
            "_view_module_version": "1.0.0",
            "layout": "IPY_MODEL_f46626ab936f4184876df3de97b6eefa",
            "_model_module": "@jupyter-widgets/output"
          }
        },
        "f46626ab936f4184876df3de97b6eefa": {
          "model_module": "@jupyter-widgets/base",
          "model_name": "LayoutModel",
          "state": {
            "_view_name": "LayoutView",
            "grid_template_rows": null,
            "right": null,
            "justify_content": null,
            "_view_module": "@jupyter-widgets/base",
            "overflow": null,
            "_model_module_version": "1.2.0",
            "_view_count": null,
            "flex_flow": null,
            "width": null,
            "min_width": null,
            "border": null,
            "align_items": null,
            "bottom": null,
            "_model_module": "@jupyter-widgets/base",
            "top": null,
            "grid_column": null,
            "overflow_y": null,
            "overflow_x": null,
            "grid_auto_flow": null,
            "grid_area": null,
            "grid_template_columns": null,
            "flex": null,
            "_model_name": "LayoutModel",
            "justify_items": null,
            "grid_row": null,
            "max_height": null,
            "align_content": null,
            "visibility": null,
            "align_self": null,
            "height": null,
            "min_height": null,
            "padding": null,
            "grid_auto_rows": null,
            "grid_gap": null,
            "max_width": null,
            "order": null,
            "_view_module_version": "1.2.0",
            "grid_template_areas": null,
            "object_position": null,
            "object_fit": null,
            "grid_auto_columns": null,
            "margin": null,
            "display": null,
            "left": null
          }
        },
        "ea6aea513cc3418785b27d840674020a": {
          "model_module": "@jupyter-widgets/controls",
          "model_name": "FloatSliderModel",
          "state": {
            "_view_name": "FloatSliderView",
            "style": "IPY_MODEL_bd8faab482ae4fafacae9898f3acdffd",
            "_dom_classes": [],
            "description": "",
            "step": 0.05,
            "_model_name": "FloatSliderModel",
            "orientation": "horizontal",
            "max": 1,
            "_view_module": "@jupyter-widgets/controls",
            "_model_module_version": "1.5.0",
            "value": 0.35,
            "_view_count": null,
            "disabled": false,
            "_view_module_version": "1.5.0",
            "min": 0,
            "continuous_update": true,
            "readout_format": ".2f",
            "description_tooltip": null,
            "readout": true,
            "_model_module": "@jupyter-widgets/controls",
            "layout": "IPY_MODEL_9d475d9158ab4583bcfe934345d532aa"
          }
        },
        "bd8faab482ae4fafacae9898f3acdffd": {
          "model_module": "@jupyter-widgets/controls",
          "model_name": "SliderStyleModel",
          "state": {
            "_view_name": "StyleView",
            "handle_color": null,
            "_model_name": "SliderStyleModel",
            "description_width": "",
            "_view_module": "@jupyter-widgets/base",
            "_model_module_version": "1.5.0",
            "_view_count": null,
            "_view_module_version": "1.2.0",
            "_model_module": "@jupyter-widgets/controls"
          }
        },
        "9d475d9158ab4583bcfe934345d532aa": {
          "model_module": "@jupyter-widgets/base",
          "model_name": "LayoutModel",
          "state": {
            "_view_name": "LayoutView",
            "grid_template_rows": null,
            "right": null,
            "justify_content": null,
            "_view_module": "@jupyter-widgets/base",
            "overflow": null,
            "_model_module_version": "1.2.0",
            "_view_count": null,
            "flex_flow": null,
            "width": null,
            "min_width": null,
            "border": null,
            "align_items": null,
            "bottom": null,
            "_model_module": "@jupyter-widgets/base",
            "top": null,
            "grid_column": null,
            "overflow_y": null,
            "overflow_x": null,
            "grid_auto_flow": null,
            "grid_area": null,
            "grid_template_columns": null,
            "flex": null,
            "_model_name": "LayoutModel",
            "justify_items": null,
            "grid_row": null,
            "max_height": null,
            "align_content": null,
            "visibility": null,
            "align_self": null,
            "height": null,
            "min_height": null,
            "padding": null,
            "grid_auto_rows": null,
            "grid_gap": null,
            "max_width": null,
            "order": null,
            "_view_module_version": "1.2.0",
            "grid_template_areas": null,
            "object_position": null,
            "object_fit": null,
            "grid_auto_columns": null,
            "margin": null,
            "display": null,
            "left": null
          }
        },
        "f37240a917514379b43f4bda62aaff22": {
          "model_module": "@jupyter-widgets/output",
          "model_name": "OutputModel",
          "state": {
            "_view_name": "OutputView",
            "msg_id": "",
            "_dom_classes": [],
            "_model_name": "OutputModel",
            "outputs": [
              {
                "output_type": "display_data",
                "metadata": {
                  "tags": []
                },
                "application/vnd.jupyter.widget-view+json": {
                  "model_id": "b9230bf398284d089e37c5ea4b34d00a",
                  "version_minor": 0,
                  "version_major": 2
                },
                "text/plain": "SelectMultiple(index=(0, 1, 2), options=(1, 2, 3), value=(1, 2, 3))"
              }
            ],
            "_view_module": "@jupyter-widgets/output",
            "_model_module_version": "1.0.0",
            "_view_count": null,
            "_view_module_version": "1.0.0",
            "layout": "IPY_MODEL_7e7b4111b2f1445fa72c70f126eaef9e",
            "_model_module": "@jupyter-widgets/output"
          }
        },
        "7e7b4111b2f1445fa72c70f126eaef9e": {
          "model_module": "@jupyter-widgets/base",
          "model_name": "LayoutModel",
          "state": {
            "_view_name": "LayoutView",
            "grid_template_rows": null,
            "right": null,
            "justify_content": null,
            "_view_module": "@jupyter-widgets/base",
            "overflow": null,
            "_model_module_version": "1.2.0",
            "_view_count": null,
            "flex_flow": null,
            "width": null,
            "min_width": null,
            "border": null,
            "align_items": null,
            "bottom": null,
            "_model_module": "@jupyter-widgets/base",
            "top": null,
            "grid_column": null,
            "overflow_y": null,
            "overflow_x": null,
            "grid_auto_flow": null,
            "grid_area": null,
            "grid_template_columns": null,
            "flex": null,
            "_model_name": "LayoutModel",
            "justify_items": null,
            "grid_row": null,
            "max_height": null,
            "align_content": null,
            "visibility": null,
            "align_self": null,
            "height": null,
            "min_height": null,
            "padding": null,
            "grid_auto_rows": null,
            "grid_gap": null,
            "max_width": null,
            "order": null,
            "_view_module_version": "1.2.0",
            "grid_template_areas": null,
            "object_position": null,
            "object_fit": null,
            "grid_auto_columns": null,
            "margin": null,
            "display": null,
            "left": null
          }
        },
        "f36d1a9d6a8647d3938577efacb4303e": {
          "model_module": "@jupyter-widgets/controls",
          "model_name": "SelectMultipleModel",
          "state": {
            "_options_labels": [
              "1",
              "2",
              "3",
              "4"
            ],
            "_view_name": "SelectMultipleView",
            "style": "IPY_MODEL_cedcda8751034437b741912c97f2baa9",
            "rows": 5,
            "_dom_classes": [],
            "description": "",
            "_model_name": "SelectMultipleModel",
            "index": [
              0
            ],
            "_view_module": "@jupyter-widgets/controls",
            "_model_module_version": "1.5.0",
            "_view_count": null,
            "disabled": false,
            "_view_module_version": "1.5.0",
            "description_tooltip": null,
            "_model_module": "@jupyter-widgets/controls",
            "layout": "IPY_MODEL_c61007a462984955b39d2b7157103771"
          }
        },
        "cedcda8751034437b741912c97f2baa9": {
          "model_module": "@jupyter-widgets/controls",
          "model_name": "DescriptionStyleModel",
          "state": {
            "_view_name": "StyleView",
            "_model_name": "DescriptionStyleModel",
            "description_width": "",
            "_view_module": "@jupyter-widgets/base",
            "_model_module_version": "1.5.0",
            "_view_count": null,
            "_view_module_version": "1.2.0",
            "_model_module": "@jupyter-widgets/controls"
          }
        },
        "c61007a462984955b39d2b7157103771": {
          "model_module": "@jupyter-widgets/base",
          "model_name": "LayoutModel",
          "state": {
            "_view_name": "LayoutView",
            "grid_template_rows": null,
            "right": null,
            "justify_content": null,
            "_view_module": "@jupyter-widgets/base",
            "overflow": null,
            "_model_module_version": "1.2.0",
            "_view_count": null,
            "flex_flow": null,
            "width": null,
            "min_width": null,
            "border": null,
            "align_items": null,
            "bottom": null,
            "_model_module": "@jupyter-widgets/base",
            "top": null,
            "grid_column": null,
            "overflow_y": null,
            "overflow_x": null,
            "grid_auto_flow": null,
            "grid_area": null,
            "grid_template_columns": null,
            "flex": null,
            "_model_name": "LayoutModel",
            "justify_items": null,
            "grid_row": null,
            "max_height": null,
            "align_content": null,
            "visibility": null,
            "align_self": null,
            "height": null,
            "min_height": null,
            "padding": null,
            "grid_auto_rows": null,
            "grid_gap": null,
            "max_width": null,
            "order": null,
            "_view_module_version": "1.2.0",
            "grid_template_areas": null,
            "object_position": null,
            "object_fit": null,
            "grid_auto_columns": null,
            "margin": null,
            "display": null,
            "left": null
          }
        },
        "b9230bf398284d089e37c5ea4b34d00a": {
          "model_module": "@jupyter-widgets/controls",
          "model_name": "SelectMultipleModel",
          "state": {
            "_options_labels": [
              "1",
              "2",
              "3"
            ],
            "_view_name": "SelectMultipleView",
            "style": "IPY_MODEL_1925b238778a49db91dcb7fcb2ef44ad",
            "rows": 5,
            "_dom_classes": [],
            "description": "",
            "_model_name": "SelectMultipleModel",
            "index": [
              0,
              1,
              2
            ],
            "_view_module": "@jupyter-widgets/controls",
            "_model_module_version": "1.5.0",
            "_view_count": null,
            "disabled": false,
            "_view_module_version": "1.5.0",
            "description_tooltip": null,
            "_model_module": "@jupyter-widgets/controls",
            "layout": "IPY_MODEL_f59b59d6bdcd497092268ebeab067a5b"
          }
        },
        "1925b238778a49db91dcb7fcb2ef44ad": {
          "model_module": "@jupyter-widgets/controls",
          "model_name": "DescriptionStyleModel",
          "state": {
            "_view_name": "StyleView",
            "_model_name": "DescriptionStyleModel",
            "description_width": "",
            "_view_module": "@jupyter-widgets/base",
            "_model_module_version": "1.5.0",
            "_view_count": null,
            "_view_module_version": "1.2.0",
            "_model_module": "@jupyter-widgets/controls"
          }
        },
        "f59b59d6bdcd497092268ebeab067a5b": {
          "model_module": "@jupyter-widgets/base",
          "model_name": "LayoutModel",
          "state": {
            "_view_name": "LayoutView",
            "grid_template_rows": null,
            "right": null,
            "justify_content": null,
            "_view_module": "@jupyter-widgets/base",
            "overflow": null,
            "_model_module_version": "1.2.0",
            "_view_count": null,
            "flex_flow": null,
            "width": null,
            "min_width": null,
            "border": null,
            "align_items": null,
            "bottom": null,
            "_model_module": "@jupyter-widgets/base",
            "top": null,
            "grid_column": null,
            "overflow_y": null,
            "overflow_x": null,
            "grid_auto_flow": null,
            "grid_area": null,
            "grid_template_columns": null,
            "flex": null,
            "_model_name": "LayoutModel",
            "justify_items": null,
            "grid_row": null,
            "max_height": null,
            "align_content": null,
            "visibility": null,
            "align_self": null,
            "height": null,
            "min_height": null,
            "padding": null,
            "grid_auto_rows": null,
            "grid_gap": null,
            "max_width": null,
            "order": null,
            "_view_module_version": "1.2.0",
            "grid_template_areas": null,
            "object_position": null,
            "object_fit": null,
            "grid_auto_columns": null,
            "margin": null,
            "display": null,
            "left": null
          }
        },
        "5a3ae5b8c6134eb1b618c9b70bc5b61b": {
          "model_module": "@jupyter-widgets/output",
          "model_name": "OutputModel",
          "state": {
            "_view_name": "OutputView",
            "msg_id": "",
            "_dom_classes": [],
            "_model_name": "OutputModel",
            "outputs": [
              {
                "output_type": "display_data",
                "metadata": {
                  "tags": []
                },
                "image/png": "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\n",
                "text/plain": "<Figure size 432x288 with 1 Axes>"
              }
            ],
            "_view_module": "@jupyter-widgets/output",
            "_model_module_version": "1.0.0",
            "_view_count": null,
            "_view_module_version": "1.0.0",
            "layout": "IPY_MODEL_4afebddb60234d75aaa62e49535a9ddb",
            "_model_module": "@jupyter-widgets/output"
          }
        },
        "4afebddb60234d75aaa62e49535a9ddb": {
          "model_module": "@jupyter-widgets/base",
          "model_name": "LayoutModel",
          "state": {
            "_view_name": "LayoutView",
            "grid_template_rows": null,
            "right": null,
            "justify_content": null,
            "_view_module": "@jupyter-widgets/base",
            "overflow": null,
            "_model_module_version": "1.2.0",
            "_view_count": null,
            "flex_flow": null,
            "width": null,
            "min_width": null,
            "border": null,
            "align_items": null,
            "bottom": null,
            "_model_module": "@jupyter-widgets/base",
            "top": null,
            "grid_column": null,
            "overflow_y": null,
            "overflow_x": null,
            "grid_auto_flow": null,
            "grid_area": null,
            "grid_template_columns": null,
            "flex": null,
            "_model_name": "LayoutModel",
            "justify_items": null,
            "grid_row": null,
            "max_height": null,
            "align_content": null,
            "visibility": null,
            "align_self": null,
            "height": null,
            "min_height": null,
            "padding": null,
            "grid_auto_rows": null,
            "grid_gap": null,
            "max_width": null,
            "order": null,
            "_view_module_version": "1.2.0",
            "grid_template_areas": null,
            "object_position": null,
            "object_fit": null,
            "grid_auto_columns": null,
            "margin": null,
            "display": null,
            "left": null
          }
        }
      }
    }
  },
  "cells": [
    {
      "cell_type": "markdown",
      "metadata": {
        "id": "M-_AsPzAOT0-"
      },
      "source": [
        "# Cheat Detector\n",
        "Similarity-based cheat detector for written exams with multiple questions."
      ]
    },
    {
      "cell_type": "code",
      "metadata": {
        "collapsed": true,
        "jupyter": {
          "source_hidden": false,
          "outputs_hidden": false
        },
        "nteract": {
          "transient": {
            "deleting": false
          }
        },
        "id": "uSvOnOlgOP-P"
      },
      "source": [
        "import cheat_detector\n",
        "from cheat_detector.graph_utils import *\n",
        "from cheat_detector.model import TextSimilarityModel\n",
        "from cheat_detector.visualization_utils import plot_edge_list\n",
        "\n",
        "import numpy as np\n",
        "from IPython.display import clear_output, display\n",
        "import ipywidgets\n",
        "from natsort import natsorted\n",
        "import zipfile\n",
        "import io"
      ],
      "execution_count": null,
      "outputs": []
    },
    {
      "cell_type": "code",
      "metadata": {
        "id": "fW5uwY7upHQR"
      },
      "source": [
        "text_similarity_model = TextSimilarityModel()"
      ],
      "execution_count": null,
      "outputs": []
    },
    {
      "cell_type": "code",
      "metadata": {
        "collapsed": true,
        "jupyter": {
          "source_hidden": false,
          "outputs_hidden": false
        },
        "nteract": {
          "transient": {
            "deleting": false
          }
        },
        "id": "oNGy2C0pOP-T"
      },
      "source": [
        "file_upload_button = ipywidgets.FileUpload()"
      ],
      "execution_count": null,
      "outputs": []
    },
    {
      "cell_type": "code",
      "metadata": {
        "collapsed": true,
        "jupyter": {
          "source_hidden": false,
          "outputs_hidden": false
        },
        "nteract": {
          "transient": {
            "deleting": false
          }
        },
        "id": "G0Y634_FOP-U"
      },
      "source": [
        "class ThresholdSlider(object):\n",
        "\n",
        "    def __init__(self, value=0.5, min=0, max=1, step=0.05, **kwargs):\n",
        "        self.widget = self.create_widget(\n",
        "            value, min, max, step, **kwargs\n",
        "        )\n",
        "        self.output = ipywidgets.Output()\n",
        "        self.has_been_instantiated = False\n",
        "\n",
        "    def observe(self, function, names):\n",
        "        self.widget.observe(function, names=names)\n",
        "\n",
        "    def create_widget(self, value, min, max, step, **kwargs):\n",
        "        return ipywidgets.FloatSlider(\n",
        "            value=0.5,  # default value\n",
        "            min=0, max=1, step=0.05,\n",
        "            **kwargs\n",
        "        )\n",
        "\n",
        "    def display(self):\n",
        "        if self.has_been_instantiated:\n",
        "            with self.output:\n",
        "                clear_output(True)\n",
        "                display(self.widget)\n",
        "        else:\n",
        "            display(self.output)\n",
        "            self.has_been_instantiated = True\n",
        "\n",
        "threshold_slider = ThresholdSlider()"
      ],
      "execution_count": null,
      "outputs": []
    },
    {
      "cell_type": "code",
      "metadata": {
        "collapsed": true,
        "jupyter": {
          "source_hidden": false,
          "outputs_hidden": false
        },
        "nteract": {
          "transient": {
            "deleting": false
          }
        },
        "id": "qS6Pc-MDOP-X"
      },
      "source": [
        "class WhichQuestionsWidget(object):\n",
        "\n",
        "    def __init__(self):\n",
        "        self.widget = self.create_widget(1, None, None)\n",
        "        self.output = ipywidgets.Output()\n",
        "        self.has_been_instantiated = False\n",
        "\n",
        "    def observe(self, function, names):\n",
        "        self.function_to_observe = function\n",
        "        self.names_to_observe = names\n",
        "\n",
        "    def create_widget(self, question_quantity, function_to_observe, names_to_observe):\n",
        "        which_questions = [i+1 for i in range(question_quantity)]\n",
        "        widget = ipywidgets.SelectMultiple(\n",
        "            options=which_questions,\n",
        "            value=which_questions,  # default value\n",
        "            disabled=False\n",
        "        )\n",
        "        widget.observe(function_to_observe, names_to_observe)\n",
        "        return widget\n",
        "\n",
        "    def display(self, question_quantity):\n",
        "        if self.has_been_instantiated:\n",
        "            self.widget = self.create_widget(\n",
        "                question_quantity, self.function_to_observe, self.names_to_observe\n",
        "            )\n",
        "            with self.output:\n",
        "                clear_output(True)\n",
        "                display(self.widget)\n",
        "        else:\n",
        "            display(self.output)\n",
        "            self.has_been_instantiated = True\n",
        "\n",
        "\n",
        "which_questions_widget = WhichQuestionsWidget()"
      ],
      "execution_count": null,
      "outputs": []
    },
    {
      "cell_type": "code",
      "metadata": {
        "collapsed": true,
        "jupyter": {
          "source_hidden": false,
          "outputs_hidden": false
        },
        "nteract": {
          "transient": {
            "deleting": false
          }
        },
        "id": "9PZU4QgCOP-Z"
      },
      "source": [
        "closest_students_plot = ipywidgets.Output()"
      ],
      "execution_count": null,
      "outputs": []
    },
    {
      "cell_type": "markdown",
      "metadata": {
        "id": "ax_4bY3HOgho"
      },
      "source": [
        "## How to use\n",
        "For the correct functioning of the cheat detector, it is necessary to send a zip file that contains each student exam. Each exam should be a text file (.txt) in the following format. Don't forget the blank line between each question answer.\n",
        "\n",
        "```\n",
        "Answer to question 1\n",
        "\n",
        "Answer to question 2\n",
        "\n",
        "Answer to question 3\n",
        "```\n",
        "\n",
        "Here's an [unzipped folder](https://github.com/projeto-de-algoritmos/Grafos1_CheatDetector/tree/main/mock_data/prova_2) example."
      ]
    },
    {
      "cell_type": "code",
      "metadata": {
        "collapsed": true,
        "jupyter": {
          "source_hidden": false,
          "outputs_hidden": false
        },
        "nteract": {
          "transient": {
            "deleting": false
          }
        },
        "id": "VN05gwxyOP-d",
        "colab": {
          "base_uri": "https://localhost:8080/",
          "height": 49,
          "referenced_widgets": [
            "fe3fdbfc5bc24e45b9315e2b8ecf9fd0",
            "823ba8c839b24e88ae8a68505a5291b8",
            "3bac3939379e4fddabb85227c7dd54cf"
          ]
        },
        "outputId": "88886589-ed27-438d-e3be-d8c8e5dc4968"
      },
      "source": [
        "display(file_upload_button)"
      ],
      "execution_count": null,
      "outputs": [
        {
          "output_type": "display_data",
          "data": {
            "application/vnd.jupyter.widget-view+json": {
              "model_id": "fe3fdbfc5bc24e45b9315e2b8ecf9fd0",
              "version_minor": 0,
              "version_major": 2
            },
            "text/plain": [
              "FileUpload(value={}, description='Upload')"
            ]
          },
          "metadata": {
            "tags": []
          }
        }
      ]
    },
    {
      "cell_type": "markdown",
      "metadata": {
        "id": "J9Z_oDb4OmsB"
      },
      "source": [
        "### Similarity Threshold"
      ]
    },
    {
      "cell_type": "code",
      "metadata": {
        "collapsed": true,
        "jupyter": {
          "source_hidden": false,
          "outputs_hidden": false
        },
        "nteract": {
          "transient": {
            "deleting": false
          }
        },
        "id": "xvQTzZ7xOP-g",
        "colab": {
          "base_uri": "https://localhost:8080/",
          "height": 49,
          "referenced_widgets": [
            "94cced47fae2463eb65facaaef3e4e3e",
            "f46626ab936f4184876df3de97b6eefa",
            "ea6aea513cc3418785b27d840674020a",
            "bd8faab482ae4fafacae9898f3acdffd",
            "9d475d9158ab4583bcfe934345d532aa"
          ]
        },
        "outputId": "de48fc81-b8b9-4a28-8e61-a4ae04a0dbab"
      },
      "source": [
        "threshold_slider.display()"
      ],
      "execution_count": null,
      "outputs": [
        {
          "output_type": "display_data",
          "data": {
            "application/vnd.jupyter.widget-view+json": {
              "model_id": "94cced47fae2463eb65facaaef3e4e3e",
              "version_minor": 0,
              "version_major": 2
            },
            "text/plain": [
              "Output()"
            ]
          },
          "metadata": {
            "tags": []
          }
        }
      ]
    },
    {
      "cell_type": "markdown",
      "metadata": {
        "id": "EKiwiFi4OsJK"
      },
      "source": [
        "### Which questions should be considered?"
      ]
    },
    {
      "cell_type": "code",
      "metadata": {
        "collapsed": true,
        "jupyter": {
          "source_hidden": false,
          "outputs_hidden": false
        },
        "nteract": {
          "transient": {
            "deleting": false
          }
        },
        "id": "BJhkYy4sOP-k",
        "colab": {
          "base_uri": "https://localhost:8080/",
          "height": 123,
          "referenced_widgets": [
            "f37240a917514379b43f4bda62aaff22",
            "7e7b4111b2f1445fa72c70f126eaef9e",
            "f36d1a9d6a8647d3938577efacb4303e",
            "cedcda8751034437b741912c97f2baa9",
            "c61007a462984955b39d2b7157103771",
            "b9230bf398284d089e37c5ea4b34d00a",
            "1925b238778a49db91dcb7fcb2ef44ad",
            "f59b59d6bdcd497092268ebeab067a5b"
          ]
        },
        "outputId": "6c8fd1ea-f206-42c3-a1d3-8d5a8b09c98d"
      },
      "source": [
        "which_questions_widget.display(question_quantity=1)"
      ],
      "execution_count": null,
      "outputs": [
        {
          "output_type": "display_data",
          "data": {
            "application/vnd.jupyter.widget-view+json": {
              "model_id": "f37240a917514379b43f4bda62aaff22",
              "version_minor": 0,
              "version_major": 2
            },
            "text/plain": [
              "Output()"
            ]
          },
          "metadata": {
            "tags": []
          }
        }
      ]
    },
    {
      "cell_type": "markdown",
      "metadata": {
        "id": "O1I8Gj_cOuUk"
      },
      "source": [
        "### Closest Students Graph\n"
      ]
    },
    {
      "cell_type": "code",
      "metadata": {
        "collapsed": true,
        "jupyter": {
          "source_hidden": false,
          "outputs_hidden": false
        },
        "nteract": {
          "transient": {
            "deleting": false
          }
        },
        "id": "p-D6I-ayOP-o",
        "colab": {
          "base_uri": "https://localhost:8080/",
          "height": 319,
          "referenced_widgets": [
            "5a3ae5b8c6134eb1b618c9b70bc5b61b",
            "4afebddb60234d75aaa62e49535a9ddb"
          ]
        },
        "outputId": "d3ec945e-eb06-4366-cd65-91d9b403a2f7"
      },
      "source": [
        "display(closest_students_plot)"
      ],
      "execution_count": null,
      "outputs": [
        {
          "output_type": "display_data",
          "data": {
            "application/vnd.jupyter.widget-view+json": {
              "model_id": "5a3ae5b8c6134eb1b618c9b70bc5b61b",
              "version_minor": 0,
              "version_major": 2
            },
            "text/plain": [
              "Output()"
            ]
          },
          "metadata": {
            "tags": []
          }
        }
      ]
    },
    {
      "cell_type": "code",
      "metadata": {
        "collapsed": true,
        "jupyter": {
          "source_hidden": false,
          "outputs_hidden": false
        },
        "nteract": {
          "transient": {
            "deleting": false
          }
        },
        "id": "M1ib5-5AOP-q"
      },
      "source": [
        "def plot_graph(unuseful_arg):\n",
        "    global closest_students_plot\n",
        "    threshold = threshold_slider.widget.value\n",
        "    selected_questions = np.asarray(which_questions_widget.widget.value)\n",
        "\n",
        "    if selected_questions.shape[0] <= 0:\n",
        "        return\n",
        "\n",
        "    selected_edge_lists = [list_of_edge_lists[i-1] for i in selected_questions]\n",
        "    mean_edge_list = calc_mean_edge_list(selected_edge_lists)\n",
        "    closest_students = closest_edges(mean_edge_list, threshold)\n",
        "\n",
        "    with closest_students_plot:\n",
        "        clear_output(True)\n",
        "        plot_edge_list(closest_students)"
      ],
      "execution_count": null,
      "outputs": []
    },
    {
      "cell_type": "code",
      "metadata": {
        "collapsed": true,
        "jupyter": {
          "source_hidden": false,
          "outputs_hidden": false
        },
        "nteract": {
          "transient": {
            "deleting": false
          }
        },
        "id": "dYB0TQLJOP-r"
      },
      "source": [
        "def txt_to_exam(txt):\n",
        "    # split its text into lines\n",
        "    # (where each line is a question answer)\n",
        "    student_exam = []\n",
        "    for line in txt.splitlines():\n",
        "        # check if line is empty\n",
        "        if line == b'':\n",
        "            continue\n",
        "        student_exam.append(line.decode())\n",
        "    return student_exam\n",
        "\n",
        "\n",
        "def zip_bytes_to_exam_list(zip_bytes):\n",
        "    exam_list = []\n",
        "    # decompress zip bytes\n",
        "    zip_file = zipfile.ZipFile(io.BytesIO(zip_bytes), mode=\"r\")\n",
        "    # iterate over the sorted filenames in the zip\n",
        "    for filename in natsorted(zip_file.namelist()):\n",
        "        # check if file is a .txt file\n",
        "        if '.txt' != filename[-4:]:\n",
        "            continue\n",
        "        # open the file and convert the its text to the exam format\n",
        "        student_exam = txt_to_exam(zip_file.read(filename))\n",
        "        exam_list.append(student_exam)\n",
        "    zip_file.close()\n",
        "    return np.asarray(exam_list)\n",
        "\n",
        "\n",
        "def on_zip_upload(unuseful_arg):\n",
        "    global list_of_edge_lists\n",
        "    zip_bytes = file_upload_button.data[-1]\n",
        "    exam_list = zip_bytes_to_exam_list(zip_bytes)\n",
        "\n",
        "    question_answers_list = exam_list.T\n",
        "\n",
        "    sim_matrix_list = np.asarray([\n",
        "        text_similarity_model.predict_sim_matrix(question_answers)\n",
        "        for question_answers in question_answers_list\n",
        "    ])\n",
        "    list_of_edge_lists = [\n",
        "        matrix_to_edge_list(sim_matrix, sim_matrix.shape[0])\n",
        "        for sim_matrix in sim_matrix_list\n",
        "    ]\n",
        "\n",
        "    # plot graph for the first time\n",
        "    plot_graph(unuseful_arg=None)\n",
        "\n",
        "    threshold_slider.display()\n",
        "    which_questions_widget.display(\n",
        "        question_quantity=len(list_of_edge_lists)\n",
        "    )"
      ],
      "execution_count": null,
      "outputs": []
    },
    {
      "cell_type": "code",
      "metadata": {
        "collapsed": true,
        "jupyter": {
          "source_hidden": false,
          "outputs_hidden": false
        },
        "nteract": {
          "transient": {
            "deleting": false
          }
        },
        "id": "uddMJZkrOP-u"
      },
      "source": [
        "file_upload_button.observe(on_zip_upload, names=['data'])\n",
        "threshold_slider.observe(plot_graph, names='value')\n",
        "which_questions_widget.observe(plot_graph, names='value')"
      ],
      "execution_count": null,
      "outputs": []
    }
  ]
}
